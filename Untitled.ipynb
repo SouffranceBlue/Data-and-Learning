{
 "cells": [
  {
   "cell_type": "code",
   "execution_count": 1,
   "id": "8a9de930",
   "metadata": {},
   "outputs": [],
   "source": [
    "import numpy as np\n",
    "import pandas as pd"
   ]
  },
  {
   "cell_type": "code",
   "execution_count": 6,
   "id": "5e7f5882",
   "metadata": {},
   "outputs": [],
   "source": [
    "df = pd.DataFrame(columns=[\"Audios\",\"Label\"])"
   ]
  },
  {
   "cell_type": "code",
   "execution_count": 4,
   "id": "084f5b55",
   "metadata": {},
   "outputs": [],
   "source": [
    "audios = []\n",
    "for elem in range(0,10000):\n",
    "    audios.append(f\"feature({elem})\")"
   ]
  },
  {
   "cell_type": "code",
   "execution_count": 7,
   "id": "0d8a683a",
   "metadata": {},
   "outputs": [],
   "source": [
    "df[\"audios\"] = audios"
   ]
  },
  {
   "cell_type": "code",
   "execution_count": 12,
   "id": "74204c48",
   "metadata": {},
   "outputs": [],
   "source": [
    "df = df.drop(columns=\"Audios\")"
   ]
  },
  {
   "cell_type": "code",
   "execution_count": 15,
   "id": "42ea3b74",
   "metadata": {},
   "outputs": [],
   "source": [
    "df[\"label\"] = df[\"Label\"]"
   ]
  },
  {
   "cell_type": "code",
   "execution_count": 17,
   "id": "eb810fa6",
   "metadata": {},
   "outputs": [],
   "source": [
    "df = df.drop(columns=\"Label\")"
   ]
  },
  {
   "cell_type": "code",
   "execution_count": 20,
   "id": "c4ab7fc5",
   "metadata": {},
   "outputs": [],
   "source": [
    "df.to_csv(\"ownFeatures.csv\")"
   ]
  },
  {
   "cell_type": "code",
   "execution_count": null,
   "id": "e6327aca",
   "metadata": {},
   "outputs": [],
   "source": []
  }
 ],
 "metadata": {
  "kernelspec": {
   "display_name": "Python 3 (ipykernel)",
   "language": "python",
   "name": "python3"
  },
  "language_info": {
   "codemirror_mode": {
    "name": "ipython",
    "version": 3
   },
   "file_extension": ".py",
   "mimetype": "text/x-python",
   "name": "python",
   "nbconvert_exporter": "python",
   "pygments_lexer": "ipython3",
   "version": "3.10.1"
  }
 },
 "nbformat": 4,
 "nbformat_minor": 5
}
